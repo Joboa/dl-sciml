{
 "cells": [
  {
   "cell_type": "code",
   "execution_count": 1,
   "metadata": {},
   "outputs": [],
   "source": [
    "%matplotlib inline\n",
    "import torch\n",
    "import numpy as np"
   ]
  },
  {
   "cell_type": "code",
   "execution_count": 2,
   "metadata": {},
   "outputs": [],
   "source": [
    "data = [[1,2], [3,4]]\n",
    "x_data = torch.tensor(data)"
   ]
  },
  {
   "cell_type": "code",
   "execution_count": 3,
   "metadata": {},
   "outputs": [
    {
     "name": "stdout",
     "output_type": "stream",
     "text": [
      "Numpy np_array value: \n",
      " [[1 2]\n",
      " [3 4]] \n",
      "\n",
      "Tensor x_np value: \n",
      " tensor([[1, 2],\n",
      "        [3, 4]], dtype=torch.int32) \n",
      "\n",
      "Numpy np_array after * 2 operation: \n",
      " [[2 4]\n",
      " [6 8]] \n",
      "\n",
      "Tensor x_np value after modifying numpy array: \n",
      " tensor([[2, 4],\n",
      "        [6, 8]], dtype=torch.int32) \n",
      "\n"
     ]
    }
   ],
   "source": [
    "# From numpy array\n",
    "np_array = np.array(data)\n",
    "x_np = torch.from_numpy(np_array)\n",
    "\n",
    "print(f\"Numpy np_array value: \\n {np_array} \\n\")\n",
    "print(f\"Tensor x_np value: \\n {x_np} \\n\")\n",
    "\n",
    "np.multiply(np_array, 2, out=np_array)\n",
    "print(f\"Numpy np_array after * 2 operation: \\n {np_array} \\n\")\n",
    "print(f\"Tensor x_np value after modifying numpy array: \\n {x_np} \\n\")"
   ]
  },
  {
   "cell_type": "code",
   "execution_count": 4,
   "metadata": {},
   "outputs": [
    {
     "name": "stdout",
     "output_type": "stream",
     "text": [
      "Ones Tensor: \n",
      " tensor([[1, 1],\n",
      "        [1, 1]]) \n",
      "\n",
      "Random Tensor: \n",
      " tensor([[0.9566, 0.8728],\n",
      "        [0.9157, 0.2495]]) \n",
      "\n"
     ]
    }
   ],
   "source": [
    "# From another tensor\n",
    "x_ones = torch.ones_like(x_data) # retains the properties of x_data\n",
    "print(f\"Ones Tensor: \\n {x_ones} \\n\")\n",
    "\n",
    "x_rand = torch.rand_like(x_data, dtype=torch.float)\n",
    "print(f\"Random Tensor: \\n {x_rand} \\n\")\n"
   ]
  },
  {
   "cell_type": "code",
   "execution_count": 5,
   "metadata": {},
   "outputs": [
    {
     "name": "stdout",
     "output_type": "stream",
     "text": [
      "Random Tensor: \n",
      " tensor([[0.2286, 0.3099, 0.8449],\n",
      "        [0.5508, 0.9943, 0.6485]]) \n",
      "\n",
      "Ones Tensor: \n",
      " tensor([[1., 1., 1.],\n",
      "        [1., 1., 1.]]) \n",
      "\n",
      "Zeros Tensor: \n",
      " tensor([[0., 0., 0.],\n",
      "        [0., 0., 0.]])\n"
     ]
    }
   ],
   "source": [
    "# Random or constant values\n",
    "shape = (2,3)\n",
    "rand_tensor = torch.rand(shape)\n",
    "ones_tensor = torch.ones(shape)\n",
    "zeros_tensor = torch.zeros(shape)\n",
    "\n",
    "print(f\"Random Tensor: \\n {rand_tensor} \\n\")\n",
    "print(f\"Ones Tensor: \\n {ones_tensor} \\n\")\n",
    "print(f\"Zeros Tensor: \\n {zeros_tensor}\")"
   ]
  },
  {
   "cell_type": "code",
   "execution_count": 6,
   "metadata": {},
   "outputs": [
    {
     "name": "stdout",
     "output_type": "stream",
     "text": [
      "Shape of tensor: torch.Size([3, 4])\n",
      "Datatype of tensor: torch.float32\n",
      "Device tensor is stored on: cpu\n"
     ]
    }
   ],
   "source": [
    "# Tensor attributes\n",
    "tensor = torch.rand(3,4)\n",
    "\n",
    "print(f\"Shape of tensor: {tensor.shape}\")\n",
    "print(f\"Datatype of tensor: {tensor.dtype}\")\n",
    "print(f\"Device tensor is stored on: {tensor.device}\")"
   ]
  },
  {
   "cell_type": "code",
   "execution_count": 7,
   "metadata": {},
   "outputs": [],
   "source": [
    "# Operations on tensors\n",
    "# To GPU\n",
    "if  torch.cuda.is_available():\n",
    "    tensor = tensor.to('cuda')"
   ]
  },
  {
   "cell_type": "code",
   "execution_count": 8,
   "metadata": {},
   "outputs": [
    {
     "name": "stdout",
     "output_type": "stream",
     "text": [
      "First row:  tensor([1., 1., 1., 1.])\n",
      "First column:  tensor([1., 1., 1., 1.])\n",
      "Last column: tensor([1., 1., 1., 1.])\n",
      "tensor([[1., 0., 1., 1.],\n",
      "        [1., 0., 1., 1.],\n",
      "        [1., 0., 1., 1.],\n",
      "        [1., 0., 1., 1.]])\n"
     ]
    }
   ],
   "source": [
    "# Standard numpy-like indexing and slicing\n",
    "tensor = torch.ones(4,4)\n",
    "print('First row: ',tensor[0])\n",
    "print('First column: ', tensor[:, 0])\n",
    "print('Last column:', tensor[..., -1])\n",
    "tensor[:,1] = 0\n",
    "print(tensor)"
   ]
  },
  {
   "cell_type": "code",
   "execution_count": 9,
   "metadata": {},
   "outputs": [
    {
     "name": "stdout",
     "output_type": "stream",
     "text": [
      "tensor([[1., 0., 1., 1., 1., 0., 1., 1., 1., 0., 1., 1.],\n",
      "        [1., 0., 1., 1., 1., 0., 1., 1., 1., 0., 1., 1.],\n",
      "        [1., 0., 1., 1., 1., 0., 1., 1., 1., 0., 1., 1.],\n",
      "        [1., 0., 1., 1., 1., 0., 1., 1., 1., 0., 1., 1.]])\n",
      "tensor([[1., 0., 1., 1.],\n",
      "        [1., 0., 1., 1.],\n",
      "        [1., 0., 1., 1.],\n",
      "        [1., 0., 1., 1.],\n",
      "        [1., 0., 1., 1.],\n",
      "        [1., 0., 1., 1.],\n",
      "        [1., 0., 1., 1.],\n",
      "        [1., 0., 1., 1.],\n",
      "        [1., 0., 1., 1.],\n",
      "        [1., 0., 1., 1.],\n",
      "        [1., 0., 1., 1.],\n",
      "        [1., 0., 1., 1.]])\n"
     ]
    }
   ],
   "source": [
    "# Joining tensors\n",
    "t1 = torch.cat([tensor, tensor, tensor], dim=1)\n",
    "print(t1)\n",
    "\n",
    "t2 = torch.cat([tensor, tensor, tensor], dim=0)\n",
    "print(t2)"
   ]
  },
  {
   "cell_type": "code",
   "execution_count": 10,
   "metadata": {},
   "outputs": [
    {
     "name": "stdout",
     "output_type": "stream",
     "text": [
      "y1:  tensor([[3., 3., 3., 3.],\n",
      "        [3., 3., 3., 3.],\n",
      "        [3., 3., 3., 3.],\n",
      "        [3., 3., 3., 3.]])\n",
      "y2:  tensor([[3., 3., 3., 3.],\n",
      "        [3., 3., 3., 3.],\n",
      "        [3., 3., 3., 3.],\n",
      "        [3., 3., 3., 3.]])\n",
      "y3:  tensor([[3., 3., 3., 3.],\n",
      "        [3., 3., 3., 3.],\n",
      "        [3., 3., 3., 3.],\n",
      "        [3., 3., 3., 3.]])\n",
      "z1:  tensor([[1., 0., 1., 1.],\n",
      "        [1., 0., 1., 1.],\n",
      "        [1., 0., 1., 1.],\n",
      "        [1., 0., 1., 1.]])\n",
      "z2:  tensor([[1., 0., 1., 1.],\n",
      "        [1., 0., 1., 1.],\n",
      "        [1., 0., 1., 1.],\n",
      "        [1., 0., 1., 1.]])\n",
      "z3:  tensor([[1., 0., 1., 1.],\n",
      "        [1., 0., 1., 1.],\n",
      "        [1., 0., 1., 1.],\n",
      "        [1., 0., 1., 1.]])\n"
     ]
    }
   ],
   "source": [
    "# Arithmetic operations\n",
    "\n",
    "# Matrix multiplication\n",
    "y1 = tensor @ tensor.T\n",
    "print(\"y1: \", y1)\n",
    "y2 = tensor.matmul(tensor.T)\n",
    "print(\"y2: \", y2)\n",
    "\n",
    "y3 = torch.rand_like(tensor)\n",
    "torch.matmul(tensor, tensor.T, out=y3)\n",
    "print(\"y3: \", y3)\n",
    "\n",
    "# Element-wise product\n",
    "z1 = tensor * tensor\n",
    "print(\"z1: \", z1)\n",
    "z2 = tensor.mul(tensor)\n",
    "print(\"z2: \", z2)\n",
    "\n",
    "z3 = torch.rand_like(tensor)\n",
    "torch.mul(tensor, tensor, out=z3)\n",
    "print(\"z3: \", z3)"
   ]
  },
  {
   "cell_type": "code",
   "execution_count": 11,
   "metadata": {},
   "outputs": [
    {
     "name": "stdout",
     "output_type": "stream",
     "text": [
      "tensor(12.) <class 'torch.Tensor'>\n",
      "12.0 <class 'float'>\n"
     ]
    }
   ],
   "source": [
    "# Single-elements tensors\n",
    "agg = tensor.sum()\n",
    "print(agg, type(agg))\n",
    "agg_item = agg.item()\n",
    "print(agg_item, type(agg_item))"
   ]
  },
  {
   "cell_type": "code",
   "execution_count": 12,
   "metadata": {},
   "outputs": [
    {
     "name": "stdout",
     "output_type": "stream",
     "text": [
      "tensor([[1., 0., 1., 1.],\n",
      "        [1., 0., 1., 1.],\n",
      "        [1., 0., 1., 1.],\n",
      "        [1., 0., 1., 1.]]) \n",
      "\n",
      "tensor([[6., 5., 6., 6.],\n",
      "        [6., 5., 6., 6.],\n",
      "        [6., 5., 6., 6.],\n",
      "        [6., 5., 6., 6.]])\n"
     ]
    }
   ],
   "source": [
    "# In-place operations\n",
    "\"\"\"\n",
    "Operations that store the result into the operand are \n",
    "called in-place. They're denoted by a _ suffix. \n",
    "For example: x.copy_(y), x.t_(), will change x.\n",
    "\"\"\"\n",
    "print(tensor, \"\\n\")\n",
    "tensor.add_(5)\n",
    "print(tensor)"
   ]
  },
  {
   "cell_type": "code",
   "execution_count": 13,
   "metadata": {},
   "outputs": [
    {
     "name": "stdout",
     "output_type": "stream",
     "text": [
      "t: tensor([1., 1., 1., 1., 1.])\n",
      "n: [1. 1. 1. 1. 1.]\n"
     ]
    }
   ],
   "source": [
    "# Bridge with numpy\n",
    "\n",
    "# 1. Tensor to Numpy array\n",
    "t = torch.ones(5)\n",
    "print(f\"t: {t}\")\n",
    "n = t.numpy()\n",
    "print(f\"n: {n}\")"
   ]
  },
  {
   "cell_type": "code",
   "execution_count": 14,
   "metadata": {},
   "outputs": [
    {
     "name": "stdout",
     "output_type": "stream",
     "text": [
      "t: tensor([2., 2., 2., 2., 2.])\n",
      "n: [2. 2. 2. 2. 2.]\n"
     ]
    }
   ],
   "source": [
    "t.add_(1)\n",
    "print(f\"t: {t}\")\n",
    "print(f\"n: {n}\")"
   ]
  },
  {
   "cell_type": "code",
   "execution_count": 15,
   "metadata": {},
   "outputs": [],
   "source": [
    "# Numpy array to tensor\n",
    "n = np.ones(5)\n",
    "t = torch.from_numpy(n)"
   ]
  },
  {
   "cell_type": "code",
   "execution_count": 16,
   "metadata": {},
   "outputs": [
    {
     "name": "stdout",
     "output_type": "stream",
     "text": [
      "t: tensor([2., 2., 2., 2., 2.], dtype=torch.float64)\n",
      "n: [2. 2. 2. 2. 2.]\n"
     ]
    }
   ],
   "source": [
    "np.add(n, 1, out=n)\n",
    "print(f\"t: {t}\")\n",
    "print(f\"n: {n}\")"
   ]
  },
  {
   "cell_type": "code",
   "execution_count": 17,
   "metadata": {},
   "outputs": [
    {
     "name": "stderr",
     "output_type": "stream",
     "text": [
      "c:\\Users\\johna\\miniconda3\\envs\\env\\Lib\\site-packages\\onnxruntime\\capi\\onnxruntime_validation.py:26: UserWarning: Unsupported Windows version (11). ONNX Runtime supports Windows 10 and above, only.\n",
      "  warnings.warn(\n"
     ]
    }
   ],
   "source": [
    "# Datasets and Dataloaders\n",
    "\"\"\"\n",
    "Dataset stores the samples and their corresponding labels, \n",
    "and DataLoader wraps an iterable around the Dataset to \n",
    "enable easy access to the samples\n",
    "\"\"\"\n",
    "# Loading a dataset \n",
    "\n",
    "%matplotlib inline\n",
    "from torch.utils.data import Dataset\n",
    "from torchvision import datasets\n",
    "from torchvision.transforms import ToTensor, Lambda\n",
    "import matplotlib.pyplot as plt\n",
    "\n",
    "training_data = datasets.FashionMNIST(\n",
    "    root=\"data\",\n",
    "    train=True,\n",
    "    download=True,\n",
    "    transform=ToTensor()\n",
    ")\n",
    "\n",
    "test_data = datasets.FashionMNIST(\n",
    "    root=\"data\",\n",
    "    train=False,\n",
    "    download=True,\n",
    "    transform=ToTensor()\n",
    ")"
   ]
  },
  {
   "cell_type": "code",
   "execution_count": 18,
   "metadata": {},
   "outputs": [
    {
     "data": {
      "image/png": "[encoded data removed]",
      "text/plain": [
       "<Figure size 800x800 with 9 Axes>"
      ]
     },
     "metadata": {},
     "output_type": "display_data"
    }
   ],
   "source": [
    "# Iterating and visualizing the Dataset\n",
    "\n",
    "labels_map = {\n",
    "    0: \"T-Shirt\",\n",
    "    1: \"Trouser\",\n",
    "    2: \"Pullover\",\n",
    "    3: \"Dress\",\n",
    "    4: \"Coat\",\n",
    "    5: \"Sandal\",\n",
    "    6: \"Shirt\",\n",
    "    7: \"Sneaker\",\n",
    "    8: \"Bag\",\n",
    "    9: \"Ankle Boot\",\n",
    "}\n",
    "\n",
    "figure = plt.figure(figsize=(8,8))\n",
    "cols, rows = 3, 3\n",
    "for i in range(1, cols * rows + 1):\n",
    "    sample_idx = torch.randint(len(training_data), size=(1,)).item()\n",
    "    img, label = training_data[sample_idx]\n",
    "    figure.add_subplot(rows, cols, i)\n",
    "    plt.title(labels_map[label])\n",
    "    plt.axis(\"off\")\n",
    "    plt.imshow(img.squeeze(), cmap=\"gray\")\n",
    "plt.show()"
   ]
  },
  {
   "cell_type": "code",
   "execution_count": 19,
   "metadata": {},
   "outputs": [],
   "source": [
    "# Preparing data for training with DataLoaders\n",
    "from torch.utils.data import DataLoader\n",
    "\n",
    "train_dataloader = DataLoader(training_data, batch_size=64, shuffle=True)\n",
    "test_dataloader = DataLoader(test_data, batch_size=64, shuffle=True)"
   ]
  },
  {
   "cell_type": "code",
   "execution_count": 20,
   "metadata": {},
   "outputs": [
    {
     "name": "stdout",
     "output_type": "stream",
     "text": [
      "Feature batch shape: torch.Size([64, 1, 28, 28])\n",
      "Labels batch shape: torch.Size([64])\n"
     ]
    },
    {
     "data": {
      "image/png": "[encoded data removed]",
      "text/plain": [
       "<Figure size 640x480 with 1 Axes>"
      ]
     },
     "metadata": {},
     "output_type": "display_data"
    },
    {
     "name": "stdout",
     "output_type": "stream",
     "text": [
      "Label: Sneaker\n"
     ]
    }
   ],
   "source": [
    "# Display image and label\n",
    "train_features, train_labels = next(iter(train_dataloader))\n",
    "print(f\"Feature batch shape: {train_features.size()}\")\n",
    "print(f\"Labels batch shape: {train_labels.size()}\")\n",
    "img = train_features[0].squeeze()\n",
    "label = train_labels[0]\n",
    "plt.imshow(img, cmap=\"gray\")\n",
    "plt.show()\n",
    "label_name = list(labels_map.values())[label]\n",
    "print(f\"Label: {label_name}\")\n"
   ]
  },
  {
   "cell_type": "code",
   "execution_count": 21,
   "metadata": {},
   "outputs": [],
   "source": [
    "# Normalization\n",
    "\"\"\"data preprocessing technique that's applied to scale or \n",
    "transform the data to make sure there's an equal learning \n",
    "contribution from each feature (Microsoft)\n",
    "\"\"\"\n",
    "\n",
    "# Transforms\n",
    "\"\"\"Manipulate the data to make it suitable for training\"\"\"\n",
    "\n",
    "from torchvision import datasets\n",
    "from torchvision.transforms import ToTensor, Lambda\n",
    "\n",
    "ds = datasets.FashionMNIST(\n",
    "    root=\"data\",\n",
    "    train=True,\n",
    "    download=True,\n",
    "    transform=ToTensor(), # converts to tensor and scale in range [0,1]\n",
    "    target_transform=Lambda(lambda y: torch.zeros(10, dtype=torch.float)\n",
    "                            .scatter_(0, torch.tensor(y), value=1))\n",
    "                            # torch.nn.functional.one_hot\n",
    ")"
   ]
  },
  {
   "cell_type": "code",
   "execution_count": 22,
   "metadata": {},
   "outputs": [
    {
     "name": "stdout",
     "output_type": "stream",
     "text": [
      "Using cpu device\n"
     ]
    }
   ],
   "source": [
    "# Building a neural network\n",
    "import torch.nn as nn\n",
    "\n",
    "# Get hardware for training\n",
    "device = \"cuda\" if torch.cuda.is_available() else \"cpu\"\n",
    "print('Using {} device'.format(device))"
   ]
  },
  {
   "cell_type": "code",
   "execution_count": 23,
   "metadata": {},
   "outputs": [],
   "source": [
    "# Define the network class\n",
    "class NeuralNetwork(nn.Module):\n",
    "    def __init__(self):\n",
    "        super(NeuralNetwork, self).__init__()\n",
    "        self.flatten = nn.Flatten()\n",
    "        self.linear_relu_stack = nn.Sequential(\n",
    "            nn.Linear(28*28, 512),\n",
    "            nn.ReLU(),\n",
    "            nn.Linear(512,512),\n",
    "            nn.ReLU(),\n",
    "            nn.Linear(512, 10),\n",
    "            nn.ReLU()\n",
    "        )\n",
    "\n",
    "    def forward(self, x):\n",
    "        x = self.flatten(x)\n",
    "        logits = self.linear_relu_stack(x)\n",
    "        return logits"
   ]
  },
  {
   "cell_type": "code",
   "execution_count": 24,
   "metadata": {},
   "outputs": [
    {
     "name": "stdout",
     "output_type": "stream",
     "text": [
      "NeuralNetwork(\n",
      "  (flatten): Flatten(start_dim=1, end_dim=-1)\n",
      "  (linear_relu_stack): Sequential(\n",
      "    (0): Linear(in_features=784, out_features=512, bias=True)\n",
      "    (1): ReLU()\n",
      "    (2): Linear(in_features=512, out_features=512, bias=True)\n",
      "    (3): ReLU()\n",
      "    (4): Linear(in_features=512, out_features=10, bias=True)\n",
      "    (5): ReLU()\n",
      "  )\n",
      ")\n"
     ]
    }
   ],
   "source": [
    "# Instance of the NeuralNEtwork\n",
    "model = NeuralNetwork().to(device)\n",
    "print(model)"
   ]
  },
  {
   "cell_type": "code",
   "execution_count": 25,
   "metadata": {},
   "outputs": [],
   "source": [
    "# Optimizing the model parameters\n",
    "# seting hyperparameters\n",
    "learning_rate = 1e-3\n",
    "batch_size = 64\n",
    "epochs = 5"
   ]
  },
  {
   "cell_type": "code",
   "execution_count": 26,
   "metadata": {},
   "outputs": [],
   "source": [
    "# Train and test\n",
    "def train_loop(dataloader, model, loss_fn, optimizer):\n",
    "    size = len(dataloader.dataset)\n",
    "    for batch, (X,y) in enumerate(dataloader):\n",
    "        # computer prediction and loss\n",
    "        pred = model(X)\n",
    "        loss = loss_fn(pred, y)\n",
    "\n",
    "        # Backpropagation\n",
    "        optimizer.zero_grad()\n",
    "        loss.backward()\n",
    "        optimizer.step()\n",
    "\n",
    "        if batch % 100 == 0:\n",
    "            loss , current = loss.item(), batch * len(X)\n",
    "            print(f\"loss: {loss:>7f} [{current:>5d}/{size:>5d}]\")\n",
    "\n",
    "def test_loop(dataloader, model, loss_fn):\n",
    "    size = len(dataloader.dataset)\n",
    "    test_loss, correct = 0, 0\n",
    "\n",
    "    with torch.no_grad():\n",
    "        for X, y in dataloader:\n",
    "            pred = model(X)\n",
    "            test_loss += loss_fn(pred, y).item()\n",
    "            correct += (pred.argmax(1) == y).type(torch.float).sum().item()\n",
    "\n",
    "    test_loss /=size\n",
    "    correct /=size\n",
    "    print(f\"Test Error: \\n Accuracy: {(100*correct):>0.1f}%, Avg loss: {test_loss:>8f} \\n\")"
   ]
  },
  {
   "cell_type": "code",
   "execution_count": 27,
   "metadata": {},
   "outputs": [
    {
     "name": "stdout",
     "output_type": "stream",
     "text": [
      "Epoch 1\n",
      "-------------------------------\n",
      "loss: 2.301643 [    0/60000]\n",
      "loss: 2.293468 [ 6400/60000]\n",
      "loss: 2.287719 [12800/60000]\n",
      "loss: 2.279521 [19200/60000]\n",
      "loss: 2.264322 [25600/60000]\n",
      "loss: 2.264799 [32000/60000]\n",
      "loss: 2.235586 [38400/60000]\n",
      "loss: 2.256524 [44800/60000]\n",
      "loss: 2.223070 [51200/60000]\n",
      "loss: 2.206876 [57600/60000]\n",
      "Test Error: \n",
      " Accuracy: 40.5%, Avg loss: 0.034841 \n",
      "\n",
      "Epoch 2\n",
      "-------------------------------\n",
      "loss: 2.224434 [    0/60000]\n",
      "loss: 2.206681 [ 6400/60000]\n",
      "loss: 2.234478 [12800/60000]\n",
      "loss: 2.172060 [19200/60000]\n",
      "loss: 2.155501 [25600/60000]\n",
      "loss: 2.148893 [32000/60000]\n",
      "loss: 2.127159 [38400/60000]\n",
      "loss: 2.095894 [44800/60000]\n",
      "loss: 2.057322 [51200/60000]\n",
      "loss: 2.136148 [57600/60000]\n",
      "Test Error: \n",
      " Accuracy: 43.9%, Avg loss: 0.033027 \n",
      "\n",
      "Epoch 3\n",
      "-------------------------------\n",
      "loss: 2.134140 [    0/60000]\n",
      "loss: 2.113019 [ 6400/60000]\n",
      "loss: 2.053939 [12800/60000]\n",
      "loss: 2.021535 [19200/60000]\n",
      "loss: 1.944070 [25600/60000]\n",
      "loss: 2.033104 [32000/60000]\n",
      "loss: 1.968898 [38400/60000]\n",
      "loss: 1.871545 [44800/60000]\n",
      "loss: 1.970140 [51200/60000]\n",
      "loss: 1.899499 [57600/60000]\n",
      "Test Error: \n",
      " Accuracy: 43.6%, Avg loss: 0.030118 \n",
      "\n",
      "Epoch 4\n",
      "-------------------------------\n",
      "loss: 1.816003 [    0/60000]\n",
      "loss: 1.989805 [ 6400/60000]\n",
      "loss: 1.886436 [12800/60000]\n",
      "loss: 1.798962 [19200/60000]\n",
      "loss: 1.807982 [25600/60000]\n",
      "loss: 1.701000 [32000/60000]\n",
      "loss: 1.773695 [38400/60000]\n",
      "loss: 1.810128 [44800/60000]\n",
      "loss: 1.731776 [51200/60000]\n",
      "loss: 1.746703 [57600/60000]\n",
      "Test Error: \n",
      " Accuracy: 53.2%, Avg loss: 0.027429 \n",
      "\n",
      "Epoch 5\n",
      "-------------------------------\n",
      "loss: 1.721204 [    0/60000]\n",
      "loss: 1.707291 [ 6400/60000]\n",
      "loss: 1.823496 [12800/60000]\n",
      "loss: 1.734402 [19200/60000]\n",
      "loss: 1.686393 [25600/60000]\n",
      "loss: 1.709624 [32000/60000]\n",
      "loss: 1.505382 [38400/60000]\n",
      "loss: 1.730044 [44800/60000]\n",
      "loss: 1.845277 [51200/60000]\n",
      "loss: 1.755983 [57600/60000]\n",
      "Test Error: \n",
      " Accuracy: 56.5%, Avg loss: 0.025416 \n",
      "\n",
      "Epoch 6\n",
      "-------------------------------\n",
      "loss: 1.627015 [    0/60000]\n",
      "loss: 1.540816 [ 6400/60000]\n",
      "loss: 1.639232 [12800/60000]\n",
      "loss: 1.456962 [19200/60000]\n",
      "loss: 1.714430 [25600/60000]\n",
      "loss: 1.420616 [32000/60000]\n",
      "loss: 1.416244 [38400/60000]\n",
      "loss: 1.826095 [44800/60000]\n",
      "loss: 1.395892 [51200/60000]\n",
      "loss: 1.438726 [57600/60000]\n",
      "Test Error: \n",
      " Accuracy: 56.8%, Avg loss: 0.023920 \n",
      "\n",
      "Epoch 7\n",
      "-------------------------------\n",
      "loss: 1.473055 [    0/60000]\n",
      "loss: 1.477548 [ 6400/60000]\n",
      "loss: 1.419411 [12800/60000]\n",
      "loss: 1.432560 [19200/60000]\n",
      "loss: 1.397140 [25600/60000]\n",
      "loss: 1.348437 [32000/60000]\n",
      "loss: 1.436801 [38400/60000]\n",
      "loss: 1.435632 [44800/60000]\n",
      "loss: 1.408746 [51200/60000]\n",
      "loss: 1.240324 [57600/60000]\n",
      "Test Error: \n",
      " Accuracy: 57.1%, Avg loss: 0.022804 \n",
      "\n",
      "Epoch 8\n",
      "-------------------------------\n",
      "loss: 1.276374 [    0/60000]\n",
      "loss: 1.524433 [ 6400/60000]\n",
      "loss: 1.596043 [12800/60000]\n",
      "loss: 1.380386 [19200/60000]\n",
      "loss: 1.381055 [25600/60000]\n",
      "loss: 1.498136 [32000/60000]\n",
      "loss: 1.253314 [38400/60000]\n",
      "loss: 1.417307 [44800/60000]\n",
      "loss: 1.320813 [51200/60000]\n",
      "loss: 1.205331 [57600/60000]\n",
      "Test Error: \n",
      " Accuracy: 57.3%, Avg loss: 0.021922 \n",
      "\n",
      "Epoch 9\n",
      "-------------------------------\n",
      "loss: 1.299943 [    0/60000]\n",
      "loss: 1.354113 [ 6400/60000]\n",
      "loss: 1.491528 [12800/60000]\n",
      "loss: 1.288916 [19200/60000]\n",
      "loss: 1.273037 [25600/60000]\n",
      "loss: 1.228926 [32000/60000]\n",
      "loss: 1.131825 [38400/60000]\n",
      "loss: 1.529472 [44800/60000]\n",
      "loss: 1.099248 [51200/60000]\n",
      "loss: 1.601252 [57600/60000]\n",
      "Test Error: \n",
      " Accuracy: 57.8%, Avg loss: 0.021316 \n",
      "\n",
      "Epoch 10\n",
      "-------------------------------\n",
      "loss: 1.319079 [    0/60000]\n",
      "loss: 1.591193 [ 6400/60000]\n",
      "loss: 1.493165 [12800/60000]\n",
      "loss: 1.135988 [19200/60000]\n",
      "loss: 1.652973 [25600/60000]\n",
      "loss: 1.401969 [32000/60000]\n",
      "loss: 1.310532 [38400/60000]\n",
      "loss: 1.255432 [44800/60000]\n",
      "loss: 1.291118 [51200/60000]\n",
      "loss: 1.094361 [57600/60000]\n",
      "Test Error: \n",
      " Accuracy: 58.1%, Avg loss: 0.020852 \n",
      "\n",
      "Done!\n"
     ]
    }
   ],
   "source": [
    "# Initialize the loss function\n",
    "loss_fn = nn.CrossEntropyLoss()\n",
    "optimizer = torch.optim.SGD(model.parameters(), lr=learning_rate)\n",
    "\n",
    "epochs = 10\n",
    "for t in range(epochs):\n",
    "    print(f\"Epoch {t+1}\\n-------------------------------\")\n",
    "    train_loop(train_dataloader, model, loss_fn, optimizer)\n",
    "    test_loop(test_dataloader, model, loss_fn)\n",
    "print(\"Done!\")"
   ]
  },
  {
   "cell_type": "code",
   "execution_count": 28,
   "metadata": {},
   "outputs": [
    {
     "name": "stdout",
     "output_type": "stream",
     "text": [
      "Saved PyTorch Model State to model.pth\n"
     ]
    }
   ],
   "source": [
    "# Saving models\n",
    "torch.save(model.state_dict(), \"data/model.pth\")\n",
    "print(\"Saved PyTorch Model State to model.pth\")"
   ]
  },
  {
   "cell_type": "code",
   "execution_count": 29,
   "metadata": {},
   "outputs": [
    {
     "name": "stderr",
     "output_type": "stream",
     "text": [
      "C:\\Users\\johna\\AppData\\Local\\Temp\\ipykernel_30616\\3034000960.py:9: FutureWarning: You are using `torch.load` with `weights_only=False` (the current default value), which uses the default pickle module implicitly. It is possible to construct malicious pickle data which will execute arbitrary code during unpickling (See https://github.com/pytorch/pytorch/blob/main/SECURITY.md#untrusted-models for more details). In a future release, the default value for `weights_only` will be flipped to `True`. This limits the functions that could be executed during unpickling. Arbitrary objects will no longer be allowed to be loaded via this mode unless they are explicitly allowlisted by the user via `torch.serialization.add_safe_globals`. We recommend you start setting `weights_only=True` for any use case where you don't have full control of the loaded file. Please open an issue on GitHub for any issues related to this experimental feature.\n",
      "  model.load_state_dict(torch.load('data/model.pth'))\n"
     ]
    },
    {
     "data": {
      "text/plain": [
       "NeuralNetwork(\n",
       "  (flatten): Flatten(start_dim=1, end_dim=-1)\n",
       "  (linear_relu_stack): Sequential(\n",
       "    (0): Linear(in_features=784, out_features=512, bias=True)\n",
       "    (1): ReLU()\n",
       "    (2): Linear(in_features=512, out_features=512, bias=True)\n",
       "    (3): ReLU()\n",
       "    (4): Linear(in_features=512, out_features=10, bias=True)\n",
       "    (5): ReLU()\n",
       "  )\n",
       ")"
      ]
     },
     "execution_count": 29,
     "metadata": {},
     "output_type": "execute_result"
    }
   ],
   "source": [
    "# Load the model\n",
    "import onnxruntime\n",
    "import onnx\n",
    "import torch.onnx as onnx\n",
    "import torchvision.models as models\n",
    "from torchvision.transforms import ToTensor\n",
    "\n",
    "model = NeuralNetwork()\n",
    "model.load_state_dict(torch.load('data/model.pth'))\n",
    "model.eval()"
   ]
  },
  {
   "cell_type": "code",
   "execution_count": 30,
   "metadata": {},
   "outputs": [],
   "source": [
    "# Model Inference\n",
    "# exporting the model to ONNX\n",
    "input_image = torch.zeros((1,28,28))\n",
    "onnx_model = 'data/model.onnx'\n",
    "onnx.export(model, input_image, onnx_model)"
   ]
  },
  {
   "cell_type": "code",
   "execution_count": 31,
   "metadata": {},
   "outputs": [],
   "source": [
    "test_data = datasets.FashionMNIST(\n",
    "    root=\"data\",\n",
    "    train=False,\n",
    "    download=True,\n",
    "    transform=ToTensor()\n",
    ")\n",
    "\n",
    "classes = [\n",
    "    \"T-shirt/top\",\n",
    "    \"Trouser\",\n",
    "    \"Pullover\",\n",
    "    \"Dress\",\n",
    "    \"Coat\",\n",
    "    \"Sandal\",\n",
    "    \"Shirt\",\n",
    "    \"Sneaker\",\n",
    "    \"Bag\",\n",
    "    \"Ankle boot\",\n",
    "]\n",
    "x, y = test_data[0][0], test_data[0][1]"
   ]
  },
  {
   "cell_type": "code",
   "execution_count": 32,
   "metadata": {},
   "outputs": [
    {
     "name": "stdout",
     "output_type": "stream",
     "text": [
      "Predicted: \"Sneaker\", Actual: \"Ankle boot\"\n"
     ]
    }
   ],
   "source": [
    "session = onnxruntime.InferenceSession(onnx_model, None)\n",
    "input_name = session.get_inputs()[0].name\n",
    "output_name = session.get_outputs()[0].name\n",
    "\n",
    "result = session.run([output_name], {input_name: x.numpy()})\n",
    "predicted, actual = classes[result[0][0].argmax(0)], classes[y]\n",
    "print(f'Predicted: \"{predicted}\", Actual: \"{actual}\"')"
   ]
  },
  {
   "cell_type": "code",
   "execution_count": 33,
   "metadata": {},
   "outputs": [
    {
     "name": "stdout",
     "output_type": "stream",
     "text": [
      "Predicted class: tensor([8])\n"
     ]
    }
   ],
   "source": [
    "# Execute the forward \n",
    "X = torch.rand(1, 28, 28, device=device)\n",
    "logits = model(X)\n",
    "pred_probab = nn.Softmax(dim=1)(logits)\n",
    "y_pred = pred_probab.argmax(1)\n",
    "print(f\"Predicted class: {y_pred}\")"
   ]
  },
  {
   "cell_type": "code",
   "execution_count": 34,
   "metadata": {},
   "outputs": [
    {
     "name": "stdout",
     "output_type": "stream",
     "text": [
      "First Linear weights: Parameter containing:\n",
      "tensor([[ 0.0343, -0.0243, -0.0176,  ..., -0.0265,  0.0078, -0.0345],\n",
      "        [ 0.0172, -0.0147,  0.0220,  ..., -0.0148,  0.0159, -0.0016],\n",
      "        [-0.0264, -0.0203,  0.0355,  ...,  0.0087, -0.0325, -0.0116],\n",
      "        ...,\n",
      "        [-0.0024, -0.0227, -0.0156,  ..., -0.0235,  0.0313,  0.0160],\n",
      "        [-0.0260,  0.0131, -0.0018,  ...,  0.0021,  0.0157,  0.0275],\n",
      "        [-0.0230, -0.0304,  0.0150,  ..., -0.0316, -0.0148, -0.0174]],\n",
      "       requires_grad=True) \n",
      "\n",
      "First Linear biases: Parameter containing:\n",
      "tensor([ 0.0339, -0.0069, -0.0153, -0.0154,  0.0213, -0.0254, -0.0132,  0.0130,\n",
      "         0.0039, -0.0213,  0.0146,  0.0060, -0.0066,  0.0268,  0.0342, -0.0108,\n",
      "         0.0312, -0.0108,  0.0285, -0.0054,  0.0280, -0.0030,  0.0068,  0.0043,\n",
      "         0.0006,  0.0440,  0.0028,  0.0031,  0.0104,  0.0013,  0.0210,  0.0161,\n",
      "        -0.0338, -0.0297, -0.0212,  0.0142,  0.0144, -0.0090, -0.0052,  0.0035,\n",
      "        -0.0082, -0.0106,  0.0220, -0.0330, -0.0005, -0.0313, -0.0138, -0.0167,\n",
      "         0.0287, -0.0185,  0.0186,  0.0181, -0.0324,  0.0320,  0.0007,  0.0048,\n",
      "         0.0083,  0.0204, -0.0051, -0.0357, -0.0206, -0.0111,  0.0267, -0.0036,\n",
      "         0.0373,  0.0127, -0.0107,  0.0092,  0.0332, -0.0027, -0.0166, -0.0286,\n",
      "        -0.0152,  0.0050,  0.0093,  0.0295,  0.0129,  0.0212,  0.0256, -0.0295,\n",
      "         0.0258, -0.0005,  0.0315,  0.0196,  0.0148, -0.0173,  0.0251, -0.0077,\n",
      "        -0.0074, -0.0297, -0.0013,  0.0074,  0.0089, -0.0336,  0.0136,  0.0166,\n",
      "         0.0136, -0.0121, -0.0196,  0.0199, -0.0054, -0.0297, -0.0085,  0.0062,\n",
      "        -0.0261,  0.0196, -0.0111,  0.0242, -0.0214,  0.0145,  0.0084, -0.0231,\n",
      "         0.0381,  0.0040,  0.0431,  0.0427, -0.0298,  0.0271,  0.0134, -0.0181,\n",
      "        -0.0079,  0.0280,  0.0065,  0.0314,  0.0143, -0.0129,  0.0187,  0.0309,\n",
      "         0.0104, -0.0233,  0.0058, -0.0339,  0.0339,  0.0229, -0.0298,  0.0365,\n",
      "         0.0335,  0.0371,  0.0264,  0.0167, -0.0131, -0.0157,  0.0194, -0.0297,\n",
      "         0.0238,  0.0110,  0.0207,  0.0360, -0.0012,  0.0165, -0.0289,  0.0081,\n",
      "         0.0320, -0.0182,  0.0144,  0.0272, -0.0090,  0.0258,  0.0291, -0.0088,\n",
      "         0.0083, -0.0187, -0.0268,  0.0062,  0.0055, -0.0200,  0.0014,  0.0332,\n",
      "        -0.0318, -0.0330,  0.0418,  0.0322,  0.0057,  0.0246, -0.0012,  0.0357,\n",
      "         0.0100,  0.0113, -0.0248, -0.0321,  0.0273, -0.0307, -0.0235,  0.0271,\n",
      "        -0.0192,  0.0152,  0.0244, -0.0111,  0.0110,  0.0160,  0.0109, -0.0278,\n",
      "         0.0330,  0.0238,  0.0011,  0.0116,  0.0001, -0.0208,  0.0364,  0.0085,\n",
      "        -0.0054,  0.0056, -0.0296, -0.0038, -0.0093, -0.0123, -0.0282,  0.0085,\n",
      "         0.0287,  0.0306,  0.0095,  0.0086, -0.0017, -0.0127,  0.0217, -0.0155,\n",
      "         0.0148,  0.0145,  0.0149,  0.0351,  0.0386,  0.0074, -0.0208, -0.0138,\n",
      "         0.0142, -0.0247, -0.0101, -0.0158,  0.0022, -0.0303,  0.0054, -0.0159,\n",
      "        -0.0146, -0.0182, -0.0085, -0.0023,  0.0239,  0.0136,  0.0187,  0.0002,\n",
      "        -0.0153, -0.0308,  0.0170,  0.0272,  0.0106,  0.0200,  0.0184, -0.0078,\n",
      "        -0.0103, -0.0104, -0.0117, -0.0176,  0.0121, -0.0097, -0.0070, -0.0234,\n",
      "         0.0206, -0.0206,  0.0130, -0.0311, -0.0049,  0.0341,  0.0290,  0.0089,\n",
      "        -0.0225, -0.0173, -0.0203,  0.0231,  0.0116,  0.0279, -0.0247,  0.0176,\n",
      "        -0.0178,  0.0041,  0.0166, -0.0141, -0.0208,  0.0074, -0.0145, -0.0121,\n",
      "         0.0132,  0.0002, -0.0208,  0.0446,  0.0159, -0.0015, -0.0272,  0.0211,\n",
      "         0.0312, -0.0089, -0.0074,  0.0260, -0.0230, -0.0139, -0.0114,  0.0241,\n",
      "        -0.0303,  0.0370,  0.0028, -0.0087,  0.0138,  0.0139,  0.0176,  0.0247,\n",
      "         0.0245, -0.0219,  0.0017,  0.0046,  0.0468,  0.0096,  0.0332,  0.0330,\n",
      "         0.0126,  0.0226, -0.0090, -0.0125, -0.0037,  0.0349, -0.0161, -0.0094,\n",
      "         0.0307, -0.0273,  0.0086,  0.0135, -0.0039, -0.0145,  0.0064, -0.0185,\n",
      "         0.0045,  0.0174,  0.0354,  0.0068,  0.0242, -0.0191,  0.0316,  0.0343,\n",
      "        -0.0327,  0.0075,  0.0045,  0.0045,  0.0192, -0.0140,  0.0289, -0.0290,\n",
      "        -0.0218, -0.0285,  0.0090,  0.0012, -0.0207,  0.0197, -0.0262, -0.0300,\n",
      "         0.0076,  0.0351,  0.0124,  0.0119,  0.0273,  0.0293,  0.0309,  0.0191,\n",
      "         0.0046, -0.0189, -0.0242, -0.0029,  0.0007, -0.0232, -0.0209,  0.0063,\n",
      "        -0.0089,  0.0237, -0.0201, -0.0278, -0.0343,  0.0243,  0.0375, -0.0025,\n",
      "        -0.0201,  0.0374, -0.0157,  0.0481,  0.0056, -0.0119, -0.0143, -0.0267,\n",
      "        -0.0321, -0.0035, -0.0331,  0.0048, -0.0022, -0.0347,  0.0150,  0.0102,\n",
      "        -0.0023,  0.0266,  0.0376, -0.0294, -0.0204, -0.0232,  0.0126,  0.0390,\n",
      "         0.0244, -0.0002,  0.0055,  0.0351, -0.0039, -0.0275,  0.0144,  0.0387,\n",
      "        -0.0253,  0.0030, -0.0180, -0.0178, -0.0241,  0.0298, -0.0193, -0.0173,\n",
      "         0.0036,  0.0329, -0.0200,  0.0023, -0.0067, -0.0311, -0.0068, -0.0257,\n",
      "         0.0272,  0.0007, -0.0269, -0.0169, -0.0178, -0.0330, -0.0132, -0.0036,\n",
      "         0.0113, -0.0057,  0.0138,  0.0104, -0.0169,  0.0002,  0.0060,  0.0327,\n",
      "         0.0010, -0.0129,  0.0107, -0.0089,  0.0180, -0.0207,  0.0277, -0.0133,\n",
      "        -0.0146, -0.0035,  0.0325,  0.0087,  0.0208, -0.0178,  0.0174, -0.0035,\n",
      "        -0.0040, -0.0322, -0.0026, -0.0151, -0.0249,  0.0285,  0.0208, -0.0094,\n",
      "         0.0356, -0.0380,  0.0148,  0.0085,  0.0379, -0.0088, -0.0208, -0.0233,\n",
      "        -0.0112, -0.0272, -0.0051,  0.0070,  0.0010,  0.0187,  0.0049,  0.0057,\n",
      "        -0.0161,  0.0304,  0.0241,  0.0135,  0.0116, -0.0309, -0.0238,  0.0103,\n",
      "        -0.0116, -0.0072,  0.0191,  0.0174, -0.0148, -0.0126,  0.0019,  0.0313,\n",
      "        -0.0039,  0.0304,  0.0008, -0.0143,  0.0186, -0.0362, -0.0078,  0.0340,\n",
      "         0.0115,  0.0093,  0.0060, -0.0093, -0.0039, -0.0330,  0.0042, -0.0331],\n",
      "       requires_grad=True) \n",
      "\n"
     ]
    }
   ],
   "source": [
    "# Weight and Bias\n",
    "print(f\"First Linear weights: {model.linear_relu_stack[0].weight} \\n\")\n",
    "print(f\"First Linear biases: {model.linear_relu_stack[0].bias} \\n\")"
   ]
  },
  {
   "cell_type": "code",
   "execution_count": 35,
   "metadata": {},
   "outputs": [
    {
     "name": "stdout",
     "output_type": "stream",
     "text": [
      "torch.Size([3, 28, 28])\n",
      "tensor([[0.5171, 0.6344, 0.1499,  ..., 0.5992, 0.6725, 0.9575],\n",
      "        [0.2872, 0.1396, 0.1416,  ..., 0.8115, 0.6580, 0.2655],\n",
      "        [0.1061, 0.1373, 0.2609,  ..., 0.4297, 0.0294, 0.1394]])\n"
     ]
    }
   ],
   "source": [
    "# Model layers\n",
    "input_image = torch.rand(3, 28,28)\n",
    "print(input_image.size())\n",
    "\n",
    "# nn.Flatten\n",
    "flatten = nn.Flatten()\n",
    "flat_image = flatten(input_image)\n",
    "print(flat_image)"
   ]
  },
  {
   "cell_type": "code",
   "execution_count": 36,
   "metadata": {},
   "outputs": [
    {
     "name": "stdout",
     "output_type": "stream",
     "text": [
      "torch.Size([3, 20])\n",
      "Before ReLU: tensor([[-0.4006, -0.2116,  0.5496,  0.7501, -0.0242, -0.3203,  0.2135, -0.1093,\n",
      "          0.0547, -0.3407, -0.3997,  0.6364, -0.1123, -0.3148, -0.0125,  0.1390,\n",
      "         -0.2662, -0.8416,  0.2030, -0.1344],\n",
      "        [-0.2807,  0.3322,  0.4258,  0.4612,  0.2416, -0.5067,  0.1763, -0.0357,\n",
      "          0.3394, -0.1820, -0.3676,  0.5069,  0.0657, -0.7062,  0.0491,  0.0610,\n",
      "          0.1415, -0.9967,  0.0993, -0.0356],\n",
      "        [-0.3394,  0.0897,  0.5178,  0.2155,  0.1957, -0.2479,  0.4746,  0.1045,\n",
      "          0.5691, -0.6181, -0.0823,  0.7801, -0.2778, -0.7639,  0.1005,  0.2597,\n",
      "         -0.2077, -0.9008,  0.3815, -0.0729]], grad_fn=<AddmmBackward0>)\n",
      "\n",
      "\n",
      "After ReLU: tensor([[0.0000, 0.0000, 0.5496, 0.7501, 0.0000, 0.0000, 0.2135, 0.0000, 0.0547,\n",
      "         0.0000, 0.0000, 0.6364, 0.0000, 0.0000, 0.0000, 0.1390, 0.0000, 0.0000,\n",
      "         0.2030, 0.0000],\n",
      "        [0.0000, 0.3322, 0.4258, 0.4612, 0.2416, 0.0000, 0.1763, 0.0000, 0.3394,\n",
      "         0.0000, 0.0000, 0.5069, 0.0657, 0.0000, 0.0491, 0.0610, 0.1415, 0.0000,\n",
      "         0.0993, 0.0000],\n",
      "        [0.0000, 0.0897, 0.5178, 0.2155, 0.1957, 0.0000, 0.4746, 0.1045, 0.5691,\n",
      "         0.0000, 0.0000, 0.7801, 0.0000, 0.0000, 0.1005, 0.2597, 0.0000, 0.0000,\n",
      "         0.3815, 0.0000]], grad_fn=<ReluBackward0>)\n"
     ]
    }
   ],
   "source": [
    "# nn.Linear\n",
    "layer1 = nn.Linear(in_features=28*28, out_features=20)\n",
    "hidden1 = layer1(flat_image)\n",
    "print(hidden1.size())\n",
    "\n",
    "# nn.ReLU\n",
    "print(f\"Before ReLU: {hidden1}\\n\\n\")\n",
    "hidden1 = nn.ReLU()(hidden1)\n",
    "print(f\"After ReLU: {hidden1}\")"
   ]
  },
  {
   "cell_type": "code",
   "execution_count": 37,
   "metadata": {},
   "outputs": [],
   "source": [
    "# nn.Sequential\n",
    "seq_modules = nn.Sequential(\n",
    "    flatten,\n",
    "    layer1,\n",
    "    nn.ReLU(),\n",
    "    nn.Linear(20, 10)\n",
    ")\n",
    "input_image = torch.rand(3,28,28)\n",
    "logits = seq_modules(input_image)"
   ]
  },
  {
   "cell_type": "code",
   "execution_count": 38,
   "metadata": {},
   "outputs": [],
   "source": [
    "# nn.Softmax\n",
    "softmax = nn.Softmax(dim=1)\n",
    "pred_probab = softmax(logits)"
   ]
  },
  {
   "cell_type": "code",
   "execution_count": 39,
   "metadata": {},
   "outputs": [
    {
     "name": "stdout",
     "output_type": "stream",
     "text": [
      "Model structure:  NeuralNetwork(\n",
      "  (flatten): Flatten(start_dim=1, end_dim=-1)\n",
      "  (linear_relu_stack): Sequential(\n",
      "    (0): Linear(in_features=784, out_features=512, bias=True)\n",
      "    (1): ReLU()\n",
      "    (2): Linear(in_features=512, out_features=512, bias=True)\n",
      "    (3): ReLU()\n",
      "    (4): Linear(in_features=512, out_features=10, bias=True)\n",
      "    (5): ReLU()\n",
      "  )\n",
      ") \n",
      "\n",
      "\n",
      "Layer: linear_relu_stack.0.weight | Size: torch.Size([512, 784]) | Values : tensor([[ 0.0343, -0.0243, -0.0176,  ..., -0.0265,  0.0078, -0.0345],\n",
      "        [ 0.0172, -0.0147,  0.0220,  ..., -0.0148,  0.0159, -0.0016]],\n",
      "       grad_fn=<SliceBackward0>) \n",
      "\n",
      "Layer: linear_relu_stack.0.bias | Size: torch.Size([512]) | Values : tensor([ 0.0339, -0.0069], grad_fn=<SliceBackward0>) \n",
      "\n",
      "Layer: linear_relu_stack.2.weight | Size: torch.Size([512, 512]) | Values : tensor([[ 0.0423,  0.0279, -0.0216,  ...,  0.0179,  0.0002, -0.0074],\n",
      "        [-0.0004, -0.0321,  0.0244,  ...,  0.0352,  0.0101, -0.0357]],\n",
      "       grad_fn=<SliceBackward0>) \n",
      "\n",
      "Layer: linear_relu_stack.2.bias | Size: torch.Size([512]) | Values : tensor([-0.0336, -0.0066], grad_fn=<SliceBackward0>) \n",
      "\n",
      "Layer: linear_relu_stack.4.weight | Size: torch.Size([10, 512]) | Values : tensor([[ 0.0293, -0.0360, -0.0172,  ...,  0.0290,  0.0302, -0.0136],\n",
      "        [-0.0588,  0.0166, -0.0745,  ...,  0.0512, -0.0111, -0.0064]],\n",
      "       grad_fn=<SliceBackward0>) \n",
      "\n",
      "Layer: linear_relu_stack.4.bias | Size: torch.Size([10]) | Values : tensor([-0.0118,  0.0466], grad_fn=<SliceBackward0>) \n",
      "\n"
     ]
    }
   ],
   "source": [
    "# Model parameters\n",
    "print(\"Model structure: \", model, \"\\n\\n\")\n",
    "\n",
    "for name, param in model.named_parameters():\n",
    "    print(f\"Layer: {name} | Size: {param.size()} | Values : {param[:2]} \\n\")"
   ]
  },
  {
   "cell_type": "code",
   "execution_count": 40,
   "metadata": {},
   "outputs": [],
   "source": [
    "# Automatic differentiation with\n",
    "\"\"\"\n",
    "The back and forward process of retraining the model over \n",
    "time to reduce the loss to 0 is called the gradient descent\n",
    "\"\"\"\n",
    "x = torch.ones(5)\n",
    "y = torch.zeros(3)\n",
    "w = torch.randn(5, 3, requires_grad=True)\n",
    "b = torch.randn(3, requires_grad=True)\n",
    "z = torch.matmul(x, w) + b\n",
    "loss = torch.nn.functional.binary_cross_entropy_with_logits(z, y)"
   ]
  },
  {
   "cell_type": "code",
   "execution_count": 41,
   "metadata": {},
   "outputs": [
    {
     "name": "stdout",
     "output_type": "stream",
     "text": [
      "x: tensor([1., 1., 1., 1., 1.])\n",
      "y: tensor([0., 0., 0.])\n",
      "w: tensor([[ 0.6947,  1.0184, -1.2398],\n",
      "        [-0.3285, -0.4938,  0.9389],\n",
      "        [ 0.2005,  0.8191, -0.0051],\n",
      "        [ 1.4920,  0.2897, -1.4613],\n",
      "        [-0.0882,  0.6512,  0.2333]], requires_grad=True)\n",
      "b: tensor([-0.4235, -0.2348,  0.5172], requires_grad=True)\n",
      "z: tensor([ 1.5470,  2.0497, -1.0169], grad_fn=<AddBackward0>)\n",
      "loss: tensor(1.4065, grad_fn=<BinaryCrossEntropyWithLogitsBackward0>)\n"
     ]
    }
   ],
   "source": [
    "print(\"x:\", x)\n",
    "print(\"y:\", y)\n",
    "print(\"w:\", w)\n",
    "print(\"b:\", b)\n",
    "print(\"z:\", z)\n",
    "print(\"loss:\", loss)"
   ]
  },
  {
   "cell_type": "code",
   "execution_count": 42,
   "metadata": {},
   "outputs": [
    {
     "name": "stdout",
     "output_type": "stream",
     "text": [
      "Gradient function of z = <AddBackward0 object at 0x0000023B0EE35270>\n",
      "Gradient function of loss = <BinaryCrossEntropyWithLogitsBackward0 object at 0x0000023B0EE35270>\n",
      "None\n",
      "None\n"
     ]
    }
   ],
   "source": [
    "# Tensors, functions and computational graphs\n",
    "print('Gradient function of z =', z.grad_fn)\n",
    "print('Gradient function of loss =', loss.grad_fn)\n",
    "\n",
    "# Computing gradients\n",
    "\"\"\"\n",
    "If we need to do several backward calls on the same graph, \n",
    "we need to pass retain_graph=True to the backward call.\n",
    "\"\"\"\n",
    "loss.backward\n",
    "print(w.grad)\n",
    "print(b.grad)"
   ]
  },
  {
   "cell_type": "code",
   "execution_count": 43,
   "metadata": {},
   "outputs": [
    {
     "name": "stdout",
     "output_type": "stream",
     "text": [
      "True\n",
      "False\n",
      "False\n"
     ]
    }
   ],
   "source": [
    "# Disabling gradient tracking\n",
    "\"\"\"\n",
    "Cases when we don't need to do that, for example, \n",
    "when we've trained the model and just want to apply \n",
    "it to some input data; only want to \n",
    "do forward computations through the network.\n",
    "\"\"\"\n",
    "z = torch.matmul(x, w) + b\n",
    "print(z.requires_grad)\n",
    "\n",
    "# Approach 1\n",
    "with torch.no_grad():\n",
    "    z = torch.matmul(x , w) + b\n",
    "print(z.requires_grad)\n",
    "\n",
    "# Approach 2 to achieve above results\n",
    "z = z = torch.matmul(x, w) + b\n",
    "z_det = z.detach()\n",
    "print(z_det.requires_grad)"
   ]
  },
  {
   "cell_type": "code",
   "execution_count": 44,
   "metadata": {},
   "outputs": [
    {
     "name": "stdout",
     "output_type": "stream",
     "text": [
      "First call\n",
      " tensor([[4., 2., 2., 2., 2.],\n",
      "        [2., 4., 2., 2., 2.],\n",
      "        [2., 2., 4., 2., 2.],\n",
      "        [2., 2., 2., 4., 2.],\n",
      "        [2., 2., 2., 2., 4.]])\n",
      "\n",
      "Second call\n",
      " tensor([[8., 4., 4., 4., 4.],\n",
      "        [4., 8., 4., 4., 4.],\n",
      "        [4., 4., 8., 4., 4.],\n",
      "        [4., 4., 4., 8., 4.],\n",
      "        [4., 4., 4., 4., 8.]])\n",
      "\n",
      "Call after zeroing gradients\n",
      " tensor([[4., 2., 2., 2., 2.],\n",
      "        [2., 4., 2., 2., 2.],\n",
      "        [2., 2., 4., 2., 2.],\n",
      "        [2., 2., 2., 4., 2.],\n",
      "        [2., 2., 2., 2., 4.]])\n"
     ]
    }
   ],
   "source": [
    "# Tensor gradients and Jacobian products\n",
    "inp = torch.eye(5, requires_grad=True)\n",
    "out = (inp+1).pow(2)\n",
    "out.backward(torch.ones_like(inp), retain_graph=True)\n",
    "print(\"First call\\n\", inp.grad)\n",
    "out.backward(torch.ones_like(inp), retain_graph=True)\n",
    "print(\"\\nSecond call\\n\", inp.grad)\n",
    "inp.grad.zero_()\n",
    "out.backward(torch.ones_like(inp), retain_graph=True)\n",
    "print(\"\\nCall after zeroing gradients\\n\", inp.grad)"
   ]
  }
 ],
 "metadata": {
  "kernelspec": {
   "display_name": "env",
   "language": "python",
   "name": "python3"
  },
  "language_info": {
   "codemirror_mode": {
    "name": "ipython",
    "version": 3
   },
   "file_extension": ".py",
   "mimetype": "text/x-python",
   "name": "python",
   "nbconvert_exporter": "python",
   "pygments_lexer": "ipython3",
   "version": "3.12.7"
  }
 },
 "nbformat": 4,
 "nbformat_minor": 2
}
