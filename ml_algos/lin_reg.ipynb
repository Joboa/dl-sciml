{
 "cells": [
  {
   "cell_type": "code",
   "execution_count": 11,
   "metadata": {},
   "outputs": [],
   "source": [
    "# Linear regression\n",
    "\n",
    "import pandas as pd \n",
    "import numpy as np \n",
    "import matplotlib.pyplot as plt"
   ]
  },
  {
   "cell_type": "code",
   "execution_count": 4,
   "metadata": {},
   "outputs": [
    {
     "data": {
      "text/html": [
       "<div>\n",
       "<style scoped>\n",
       "    .dataframe tbody tr th:only-of-type {\n",
       "        vertical-align: middle;\n",
       "    }\n",
       "\n",
       "    .dataframe tbody tr th {\n",
       "        vertical-align: top;\n",
       "    }\n",
       "\n",
       "    .dataframe thead th {\n",
       "        text-align: right;\n",
       "    }\n",
       "</style>\n",
       "<table border=\"1\" class=\"dataframe\">\n",
       "  <thead>\n",
       "    <tr style=\"text-align: right;\">\n",
       "      <th></th>\n",
       "      <th>nVisitsNestling</th>\n",
       "      <th>futureBehavior</th>\n",
       "    </tr>\n",
       "  </thead>\n",
       "  <tbody>\n",
       "    <tr>\n",
       "      <th>0</th>\n",
       "      <td>1</td>\n",
       "      <td>-0.80</td>\n",
       "    </tr>\n",
       "    <tr>\n",
       "      <th>1</th>\n",
       "      <td>7</td>\n",
       "      <td>-0.92</td>\n",
       "    </tr>\n",
       "    <tr>\n",
       "      <th>2</th>\n",
       "      <td>15</td>\n",
       "      <td>-0.80</td>\n",
       "    </tr>\n",
       "    <tr>\n",
       "      <th>3</th>\n",
       "      <td>4</td>\n",
       "      <td>-0.46</td>\n",
       "    </tr>\n",
       "    <tr>\n",
       "      <th>4</th>\n",
       "      <td>11</td>\n",
       "      <td>-0.47</td>\n",
       "    </tr>\n",
       "    <tr>\n",
       "      <th>5</th>\n",
       "      <td>14</td>\n",
       "      <td>-0.46</td>\n",
       "    </tr>\n",
       "    <tr>\n",
       "      <th>6</th>\n",
       "      <td>23</td>\n",
       "      <td>-0.23</td>\n",
       "    </tr>\n",
       "    <tr>\n",
       "      <th>7</th>\n",
       "      <td>14</td>\n",
       "      <td>-0.16</td>\n",
       "    </tr>\n",
       "    <tr>\n",
       "      <th>8</th>\n",
       "      <td>9</td>\n",
       "      <td>-0.23</td>\n",
       "    </tr>\n",
       "    <tr>\n",
       "      <th>9</th>\n",
       "      <td>5</td>\n",
       "      <td>-0.23</td>\n",
       "    </tr>\n",
       "    <tr>\n",
       "      <th>10</th>\n",
       "      <td>4</td>\n",
       "      <td>-0.16</td>\n",
       "    </tr>\n",
       "    <tr>\n",
       "      <th>11</th>\n",
       "      <td>10</td>\n",
       "      <td>-0.10</td>\n",
       "    </tr>\n",
       "    <tr>\n",
       "      <th>12</th>\n",
       "      <td>13</td>\n",
       "      <td>-0.10</td>\n",
       "    </tr>\n",
       "    <tr>\n",
       "      <th>13</th>\n",
       "      <td>13</td>\n",
       "      <td>0.04</td>\n",
       "    </tr>\n",
       "    <tr>\n",
       "      <th>14</th>\n",
       "      <td>14</td>\n",
       "      <td>0.13</td>\n",
       "    </tr>\n",
       "    <tr>\n",
       "      <th>15</th>\n",
       "      <td>12</td>\n",
       "      <td>0.19</td>\n",
       "    </tr>\n",
       "    <tr>\n",
       "      <th>16</th>\n",
       "      <td>13</td>\n",
       "      <td>0.25</td>\n",
       "    </tr>\n",
       "    <tr>\n",
       "      <th>17</th>\n",
       "      <td>9</td>\n",
       "      <td>0.23</td>\n",
       "    </tr>\n",
       "    <tr>\n",
       "      <th>18</th>\n",
       "      <td>8</td>\n",
       "      <td>0.15</td>\n",
       "    </tr>\n",
       "    <tr>\n",
       "      <th>19</th>\n",
       "      <td>18</td>\n",
       "      <td>0.23</td>\n",
       "    </tr>\n",
       "    <tr>\n",
       "      <th>20</th>\n",
       "      <td>22</td>\n",
       "      <td>0.31</td>\n",
       "    </tr>\n",
       "    <tr>\n",
       "      <th>21</th>\n",
       "      <td>22</td>\n",
       "      <td>0.18</td>\n",
       "    </tr>\n",
       "    <tr>\n",
       "      <th>22</th>\n",
       "      <td>23</td>\n",
       "      <td>0.17</td>\n",
       "    </tr>\n",
       "    <tr>\n",
       "      <th>23</th>\n",
       "      <td>31</td>\n",
       "      <td>0.39</td>\n",
       "    </tr>\n",
       "  </tbody>\n",
       "</table>\n",
       "</div>"
      ],
      "text/plain": [
       "    nVisitsNestling  futureBehavior\n",
       "0                 1           -0.80\n",
       "1                 7           -0.92\n",
       "2                15           -0.80\n",
       "3                 4           -0.46\n",
       "4                11           -0.47\n",
       "5                14           -0.46\n",
       "6                23           -0.23\n",
       "7                14           -0.16\n",
       "8                 9           -0.23\n",
       "9                 5           -0.23\n",
       "10                4           -0.16\n",
       "11               10           -0.10\n",
       "12               13           -0.10\n",
       "13               13            0.04\n",
       "14               14            0.13\n",
       "15               12            0.19\n",
       "16               13            0.25\n",
       "17                9            0.23\n",
       "18                8            0.15\n",
       "19               18            0.23\n",
       "20               22            0.31\n",
       "21               22            0.18\n",
       "22               23            0.17\n",
       "23               31            0.39"
      ]
     },
     "execution_count": 4,
     "metadata": {},
     "output_type": "execute_result"
    }
   ],
   "source": [
    "birds = pd.read_csv(\"data/birds.csv\")\n",
    "birds"
   ]
  },
  {
   "cell_type": "code",
   "execution_count": 5,
   "metadata": {},
   "outputs": [
    {
     "data": {
      "text/html": [
       "<div>\n",
       "<style scoped>\n",
       "    .dataframe tbody tr th:only-of-type {\n",
       "        vertical-align: middle;\n",
       "    }\n",
       "\n",
       "    .dataframe tbody tr th {\n",
       "        vertical-align: top;\n",
       "    }\n",
       "\n",
       "    .dataframe thead th {\n",
       "        text-align: right;\n",
       "    }\n",
       "</style>\n",
       "<table border=\"1\" class=\"dataframe\">\n",
       "  <thead>\n",
       "    <tr style=\"text-align: right;\">\n",
       "      <th></th>\n",
       "      <th>nVisitsNestling</th>\n",
       "      <th>futureBehavior</th>\n",
       "    </tr>\n",
       "  </thead>\n",
       "  <tbody>\n",
       "    <tr>\n",
       "      <th>0</th>\n",
       "      <td>1</td>\n",
       "      <td>-0.80</td>\n",
       "    </tr>\n",
       "    <tr>\n",
       "      <th>1</th>\n",
       "      <td>7</td>\n",
       "      <td>-0.92</td>\n",
       "    </tr>\n",
       "    <tr>\n",
       "      <th>2</th>\n",
       "      <td>15</td>\n",
       "      <td>-0.80</td>\n",
       "    </tr>\n",
       "    <tr>\n",
       "      <th>3</th>\n",
       "      <td>4</td>\n",
       "      <td>-0.46</td>\n",
       "    </tr>\n",
       "    <tr>\n",
       "      <th>4</th>\n",
       "      <td>11</td>\n",
       "      <td>-0.47</td>\n",
       "    </tr>\n",
       "  </tbody>\n",
       "</table>\n",
       "</div>"
      ],
      "text/plain": [
       "   nVisitsNestling  futureBehavior\n",
       "0                1           -0.80\n",
       "1                7           -0.92\n",
       "2               15           -0.80\n",
       "3                4           -0.46\n",
       "4               11           -0.47"
      ]
     },
     "execution_count": 5,
     "metadata": {},
     "output_type": "execute_result"
    }
   ],
   "source": [
    "birds.head(5)"
   ]
  },
  {
   "cell_type": "code",
   "execution_count": 9,
   "metadata": {},
   "outputs": [
    {
     "data": {
      "text/plain": [
       "0    1\n",
       "1    7\n",
       "Name: nVisitsNestling, dtype: int64"
      ]
     },
     "execution_count": 9,
     "metadata": {},
     "output_type": "execute_result"
    }
   ],
   "source": [
    "x = birds[\"nVisitsNestling\"]\n",
    "y = birds[\"futureBehavior\"]\n",
    "\n",
    "x.head(2)\n",
    "# y.head(2)"
   ]
  },
  {
   "cell_type": "code",
   "execution_count": 13,
   "metadata": {},
   "outputs": [
    {
     "data": {
      "text/plain": [
       "Text(0, 0.5, 'future behaviour')"
      ]
     },
     "execution_count": 13,
     "metadata": {},
     "output_type": "execute_result"
    },
    {
     "data": {
      "image/png": "[encoded data removed]",
      "text/plain": [
       "<Figure size 640x480 with 1 Axes>"
      ]
     },
     "metadata": {},
     "output_type": "display_data"
    }
   ],
   "source": [
    "plt.plot(x, y, \"o\")\n",
    "plt.xlabel(\"visits of nest\")\n",
    "plt.ylabel(\"future behaviour\")"
   ]
  },
  {
   "cell_type": "code",
   "execution_count": 34,
   "metadata": {},
   "outputs": [
    {
     "name": "stdout",
     "output_type": "stream",
     "text": [
      "24\n",
      "[[ 1.  1.]\n",
      " [ 7.  1.]\n",
      " [15.  1.]\n",
      " [ 4.  1.]\n",
      " [11.  1.]\n",
      " [14.  1.]\n",
      " [23.  1.]\n",
      " [14.  1.]\n",
      " [ 9.  1.]\n",
      " [ 5.  1.]\n",
      " [ 4.  1.]\n",
      " [10.  1.]\n",
      " [13.  1.]\n",
      " [13.  1.]\n",
      " [14.  1.]\n",
      " [12.  1.]\n",
      " [13.  1.]\n",
      " [ 9.  1.]\n",
      " [ 8.  1.]\n",
      " [18.  1.]\n",
      " [22.  1.]\n",
      " [22.  1.]\n",
      " [23.  1.]\n",
      " [31.  1.]]\n",
      "----------------------\n",
      "(24, 2)\n"
     ]
    }
   ],
   "source": [
    "# Custom linear regression model using OLS algorithm\n",
    "\n",
    "# Step 1: Add a second column of ones to feature (x): [x 1]\n",
    "x_len = len(x)\n",
    "print(x_len)\n",
    "\n",
    "x = np.array(x)\n",
    "x_train = np.hstack([\n",
    "    x.reshape(-1, 1), \n",
    "    np.ones((x_len, 1), dtype=np.float32)])\n",
    "print(x_train)\n",
    "print(\"----------------------\")\n",
    "print(x_train.shape)"
   ]
  },
  {
   "cell_type": "code",
   "execution_count": 54,
   "metadata": {},
   "outputs": [
    {
     "name": "stdout",
     "output_type": "stream",
     "text": [
      "step 2\n",
      "[[5329.  315.]\n",
      " [ 315.   24.]]\n",
      "step 3\n",
      "[[-4.32]\n",
      " [-2.85]]\n",
      "(2, 1)\n",
      "step 4: computed weights\n",
      "[[ 0.02769593]\n",
      " [-0.48225908]]\n"
     ]
    }
   ],
   "source": [
    "# Step 2: Compute x_train^T * x_train\n",
    "x_train_x = np.dot(x_train.T, x_train)\n",
    "print(\"step 2\")\n",
    "print(x_train_x)\n",
    "\n",
    "# Step 3: Compute x_train^T * y_train [reshape y_train to column vector]\n",
    "y_train = np.array(y)\n",
    "y_train = y_train.reshape(-1,1)\n",
    "# print(y_train.shape, x_train.T.shape)\n",
    "\n",
    "x_train_y_train = np.dot(x_train.T, y_train)\n",
    "print(\"step 3\")\n",
    "print(x_train_y_train)\n",
    "print(x_train_y_train.shape)\n",
    "\n",
    "# Step 4: Compute the weight matrix, w\n",
    "x_train_x_inv = np.linalg.inv((x_train_x))\n",
    "w = np.dot(x_train_x_inv, x_train_y_train)\n",
    "print(\"step 4: computed weights\")\n",
    "print(w)"
   ]
  },
  {
   "cell_type": "code",
   "execution_count": 58,
   "metadata": {},
   "outputs": [
    {
     "data": {
      "text/plain": [
       "[<matplotlib.lines.Line2D at 0x2b85caa1220>]"
      ]
     },
     "execution_count": 58,
     "metadata": {},
     "output_type": "execute_result"
    },
    {
     "data": {
      "image/png": "[encoded data removed]",
      "text/plain": [
       "<Figure size 640x480 with 1 Axes>"
      ]
     },
     "metadata": {},
     "output_type": "display_data"
    }
   ],
   "source": [
    "# w[0], w[-1] = mx, intercept\n",
    "x_hat = np.linspace(0, 10,  100)\n",
    "y_hat = w[1] * x_hat + w[0]\n",
    "\n",
    "plt.plot(x_hat, y_hat)"
   ]
  },
  {
   "cell_type": "code",
   "execution_count": 63,
   "metadata": {},
   "outputs": [
    {
     "data": {
      "image/png": "[encoded data removed]",
      "text/plain": [
       "<Figure size 640x480 with 1 Axes>"
      ]
     },
     "metadata": {},
     "output_type": "display_data"
    }
   ],
   "source": [
    "# Final step\n",
    "# Plotting the regression line\n",
    "plt.plot(x_hat, y_hat, label=\"Linear Regression Line\")\n",
    "plt.scatter(x, y, color='red', label=\"Data Points\")\n",
    "plt.xlabel('x')\n",
    "plt.ylabel('y')\n",
    "plt.title('Linear Regression using OLS')\n",
    "plt.legend()\n",
    "plt.show()\n"
   ]
  },
  {
   "cell_type": "code",
   "execution_count": 66,
   "metadata": {},
   "outputs": [],
   "source": [
    "# # Custom linear regression model using OLS algorithm\n",
    "\n",
    "# # Step 1: Add a second column of ones to feature (x): [x 1]\n",
    "# x_len = len(x)\n",
    "# print(x_len)\n",
    "\n",
    "# x = np.array(x)\n",
    "# x_train = np.hstack([\n",
    "#     x.reshape(-1, 1), \n",
    "#     np.ones((x_len, 1), dtype=np.float32)])\n",
    "# print(x_train)\n",
    "# print(\"----------------------\")\n",
    "# print(x_train.shape)\n",
    "\n",
    "# # Step 2: Compute x_train^T * x_train\n",
    "# x_train_x = np.dot(x_train.T, x_train)\n",
    "# print(\"step 2\")\n",
    "# print(x_train_x)\n",
    "\n",
    "# # Step 3: Compute x_train^T * y_train [reshape y_train to column vector]\n",
    "# y_train = np.array(y)\n",
    "# y_train = y_train.reshape(-1,1)\n",
    "# # print(y_train.shape, x_train.T.shape)\n",
    "\n",
    "# x_train_y_train = np.dot(x_train.T, y_train)\n",
    "# print(\"step 3\")\n",
    "# print(x_train_y_train)\n",
    "# print(x_train_y_train.shape)\n",
    "\n",
    "# # Step 4: Compute the weight matrix, w\n",
    "# x_train_x_inv = np.linalg.inv((x_train_x))\n",
    "# w = np.dot(x_train_x_inv, x_train_y_train)\n",
    "# print(\"step 4: computed weights\")\n",
    "# print(w)\n",
    "\n",
    "# # w[0], w[-1] = slope, intercept\n",
    "# x_hat = np.linspace(np.min(x), np.max(x),  100)\n",
    "# y_hat = w[0] * x_hat + w[1]\n",
    "\n",
    "# plt.plot(x_hat, y_hat)\n",
    "# # Final step\n",
    "# # Plotting the regression line\n",
    "# plt.plot(x_hat, y_hat, label=\"Linear Regression Line\")\n",
    "# plt.scatter(x, y, color='red', label=\"Data Points\")\n",
    "# plt.xlabel('x')\n",
    "# plt.ylabel('y')\n",
    "# plt.title('Linear Regression using OLS')\n",
    "# plt.legend()\n",
    "# plt.show()"
   ]
  }
 ],
 "metadata": {
  "kernelspec": {
   "display_name": "base",
   "language": "python",
   "name": "python3"
  },
  "language_info": {
   "codemirror_mode": {
    "name": "ipython",
    "version": 3
   },
   "file_extension": ".py",
   "mimetype": "text/x-python",
   "name": "python",
   "nbconvert_exporter": "python",
   "pygments_lexer": "ipython3",
   "version": "3.12.7"
  }
 },
 "nbformat": 4,
 "nbformat_minor": 2
}
