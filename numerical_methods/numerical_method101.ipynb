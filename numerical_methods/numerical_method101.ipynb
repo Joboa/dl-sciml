{
 "cells": [
  {
   "cell_type": "code",
   "execution_count": 2,
   "metadata": {},
   "outputs": [
    {
     "name": "stdout",
     "output_type": "stream",
     "text": [
      "First derivative using forward differecing:  6.009999999999849\n"
     ]
    }
   ],
   "source": [
    "\"\"\"\n",
    "First derivative using forward difference\n",
    "Given: f(x) = x**2 + 2*x + 1, point x = 2 and step size h = 0.01\n",
    "\"\"\"\n",
    "\n",
    "def f(x):\n",
    "    return x**2 + 2*x + 1\n",
    "\n",
    "def forward_difference(func, x, h):\n",
    "    return (func(x + h) - func(x)) /h\n",
    "\n",
    "# test\n",
    "x, h = 2, 0.01\n",
    "\n",
    "derivative = forward_difference(f, x, h)\n",
    "print(\"First derivative using forward differecing: \", derivative)"
   ]
  },
  {
   "cell_type": "code",
   "execution_count": 4,
   "metadata": {},
   "outputs": [
    {
     "name": "stdout",
     "output_type": "stream",
     "text": [
      "Second derivative using central differecing:  -0.7071008886516683\n"
     ]
    }
   ],
   "source": [
    "\"\"\"\n",
    "Second derivative using central difference\n",
    "Given: g(x) = sin(x), point x = pi/4 and step size h = 0.1\n",
    "\"\"\"\n",
    "import math\n",
    "\n",
    "def g(x):\n",
    "    return math.sin(x)\n",
    "\n",
    "def central_difference(func, x, h):\n",
    "    return (func(x + h) - 2 * func(x) + func(x - h)) /h**2\n",
    "\n",
    "# test\n",
    "x, h = math.pi/4, 0.01\n",
    "\n",
    "derivative = central_difference(g, x, h)\n",
    "print(\"Second derivative using central differecing: \", derivative)"
   ]
  },
  {
   "cell_type": "code",
   "execution_count": 9,
   "metadata": {},
   "outputs": [
    {
     "name": "stdout",
     "output_type": "stream",
     "text": [
      "Step size | Numerical Derivatove | Analytical Derivative | Error\n",
      "--------------------------------------------------------------------------------\n",
      "     0.1 |    2.858841954873883 |    2.718281828459045 | 0.14056012641483795\n",
      "    0.01 |   2.7319186557871245 |    2.718281828459045 | 0.01363682732807936\n",
      "   0.001 |   2.7196414225332255 |    2.718281828459045 | 0.0013595940741804036\n"
     ]
    }
   ],
   "source": [
    "\"\"\"\n",
    "Error analysis in differentiation\n",
    "Given: h(x) = exp(x), point x = 1,\n",
    "step sizes = [0.1, 0.01, 0.001]\n",
    "\"\"\"\n",
    "import math\n",
    "\n",
    "# Analytical solution\n",
    "def h(x):\n",
    "    return math.exp(x)\n",
    "\n",
    "# Numerical solution\n",
    "def forward_difference(func, x, h):\n",
    "    return (func(x + h) - func(x)) /h\n",
    "\n",
    "# Error analysis\n",
    "def error_analysis():\n",
    "    x = 1\n",
    "    step_sizes = [0.1, 0.01, 0.001]\n",
    "\n",
    "    print(\"Step size | Numerical Derivatove | Analytical Derivative | Error\")\n",
    "    print(\"-\"*80)\n",
    "    \n",
    "    for i in step_sizes:\n",
    "        numerical = forward_difference(h, x, i)\n",
    "        analytical = h(x)\n",
    "        error = abs(analytical - numerical)\n",
    "        print(f\"{i:8} | {numerical:20} | {analytical:20} | {error:10}\")\n",
    "\n",
    "error_analysis()"
   ]
  },
  {
   "cell_type": "code",
   "execution_count": 10,
   "metadata": {},
   "outputs": [
    {
     "name": "stdout",
     "output_type": "stream",
     "text": [
      "The integral using the trapezoidal rule is: 3.833333333333333\n"
     ]
    }
   ],
   "source": [
    "\"\"\"\n",
    "Trapezoidal rule\n",
    "\"\"\"\n",
    "\n",
    "import numpy as np\n",
    "import scipy.integrate as integrate\n",
    "\n",
    "def f(x):\n",
    "    return x**3\n",
    "\n",
    "x = np.linspace(1, 2, 4)\n",
    "\n",
    "# Evaluate f at x \n",
    "y = f(x)\n",
    "\n",
    "# Integrate\n",
    "integral = integrate.trapz(y, x)\n",
    "print(f\"The integral using the trapezoidal rule is: {integral}\")"
   ]
  },
  {
   "cell_type": "code",
   "execution_count": 11,
   "metadata": {},
   "outputs": [
    {
     "name": "stdout",
     "output_type": "stream",
     "text": [
      "The integral using 1/3 simpson's rule is: 4.666560104897794\n"
     ]
    }
   ],
   "source": [
    "\"\"\"\n",
    "Simpson's 1/3 rule\n",
    "\"\"\"\n",
    "\n",
    "import numpy as np\n",
    "import scipy.integrate as integrate\n",
    "\n",
    "def g(x):\n",
    "    return np.sqrt(x)\n",
    "\n",
    "x = np.linspace(1, 4, 6)\n",
    "\n",
    "# Evaluate f at x \n",
    "y = g(x)\n",
    "\n",
    "# Integrate\n",
    "integral = integrate.simps(y, x)\n",
    "print(f\"The integral using 1/3 simpson's rule is: {integral}\")"
   ]
  }
 ],
 "metadata": {
  "kernelspec": {
   "display_name": "Python 3",
   "language": "python",
   "name": "python3"
  },
  "language_info": {
   "codemirror_mode": {
    "name": "ipython",
    "version": 3
   },
   "file_extension": ".py",
   "mimetype": "text/x-python",
   "name": "python",
   "nbconvert_exporter": "python",
   "pygments_lexer": "ipython3",
   "version": "3.11.3"
  }
 },
 "nbformat": 4,
 "nbformat_minor": 2
}
