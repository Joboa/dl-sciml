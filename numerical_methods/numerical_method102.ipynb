{
 "cells": [
  {
   "cell_type": "code",
   "execution_count": 2,
   "metadata": {},
   "outputs": [
    {
     "name": "stdout",
     "output_type": "stream",
     "text": [
      "[1, 0, -6]\n"
     ]
    }
   ],
   "source": [
    "\"\"\"\n",
    "# initial guess case: x1, x2 and x3\n",
    "# v1 = x1\n",
    "# v2 = x2 - x2x1\n",
    "# v3 = x3 - x3x2 - x2x1\n",
    "\"\"\"\n",
    "\n",
    "def compute_vectors(num):\n",
    "    n = len(num)\n",
    "    results = []\n",
    "\n",
    "    for i in range(n):\n",
    "        if i == 0:\n",
    "            v = num[i]\n",
    "        else:\n",
    "            v = num[i] - sum(num[i] * num[j] for j in range(i))\n",
    "        results.append(v)\n",
    "\n",
    "    return results\n",
    "\n",
    "vector = [1, 2, 3]\n",
    "r = compute_vectors(vector)\n",
    "print(r)"
   ]
  },
  {
   "cell_type": "code",
   "execution_count": 3,
   "metadata": {},
   "outputs": [
    {
     "name": "stdout",
     "output_type": "stream",
     "text": [
      "Orthonormal vector 1: [ 0.36514837 -0.91287093  0.18257419]\n",
      "Orthonormal vector 2: [0.81649658 0.40824829 0.40824829]\n"
     ]
    }
   ],
   "source": [
    "\"\"\"\n",
    "Gram-Schmidt method to perform orthonomal basis given N vectors\n",
    "Eg. v1 = (1, 2, 2) v2 = (-1, 0, 2) v3 = (0, 0, 1)\n",
    "\"\"\"\n",
    "import numpy as np\n",
    "\n",
    "def gram_schmidt(vectors):\n",
    "    basis = []\n",
    "    for v in vectors:\n",
    "        # Orthogonalize\n",
    "        for b in basis:\n",
    "            v = v - np.dot(v, b) * b\n",
    "        # Normalize\n",
    "        v = v / np.linalg.norm(v)\n",
    "        basis.append(v)\n",
    "    return basis\n",
    "\n",
    "# Example vectors\n",
    "# v1 = np.array([1, 2, 2])\n",
    "# v2 = np.array([-1, 0, 2])\n",
    "# v3 = np.array([0, 0, 1])\n",
    "\n",
    "v1 = np.array([2, -5, 1])\n",
    "v2 = np.array([4, -1, 2])\n",
    "\n",
    "\n",
    "# vectors = [v1, v2, v3]\n",
    "vectors = [v1, v2]\n",
    "\n",
    "# Compute orthonormal basis\n",
    "orthonormal_basis = gram_schmidt(vectors)\n",
    "\n",
    "# Print the result\n",
    "for i, vec in enumerate(orthonormal_basis, 1):\n",
    "    print(f\"Orthonormal vector {i}: {vec}\")\n"
   ]
  },
  {
   "cell_type": "code",
   "execution_count": 6,
   "metadata": {},
   "outputs": [
    {
     "name": "stdout",
     "output_type": "stream",
     "text": [
      "Orthonormal basis (Q):\n",
      "[[-3.65148372e-01 -8.16496581e-01 -4.47213595e-01]\n",
      " [ 9.12870929e-01 -4.08248290e-01  1.11022302e-16]\n",
      " [-1.82574186e-01 -4.08248290e-01  8.94427191e-01]]\n"
     ]
    }
   ],
   "source": [
    "import numpy as np\n",
    "from scipy.linalg import qr\n",
    "\n",
    "v1 = np.array([2, -5, 1])\n",
    "v2 = np.array([4, -1, 2])\n",
    "\n",
    "# Stack vectors into a matrix\n",
    "matrix = np.column_stack([v1, v2])\n",
    "\n",
    "# Perform QR decomposition (Q contains the orthonormal vectors)\n",
    "Q, R = qr(matrix)\n",
    "\n",
    "# Print the orthonormal basis\n",
    "print(\"Orthonormal basis (Q):\")\n",
    "print(Q)\n",
    "\n"
   ]
  },
  {
   "cell_type": "code",
   "execution_count": 5,
   "metadata": {},
   "outputs": [
    {
     "name": "stdout",
     "output_type": "stream",
     "text": [
      "Orthonormal vector 1: [ 0.36514837 -0.91287093  0.18257419]\n",
      "Orthonormal vector 2: [0.81649658 0.40824829 0.40824829]\n"
     ]
    }
   ],
   "source": [
    "import numpy as np\n",
    "\n",
    "def gram_schmidt(vectors):\n",
    "    basis = []\n",
    "    for v in vectors:\n",
    "        # Orthogonalize\n",
    "        for b in basis:\n",
    "            v = v - np.dot(v, b) * b\n",
    "        # Normalize\n",
    "        norm = np.linalg.norm(v)\n",
    "        if norm > 1e-10:  # Avoid division by zero\n",
    "            v = v / norm\n",
    "            basis.append(v)\n",
    "    return basis\n",
    "\n",
    "# Example vectors\n",
    "v1 = np.array([2, -5, 1])\n",
    "v2 = np.array([4, -1, 2])\n",
    "\n",
    "vectors = [v1, v2]\n",
    "\n",
    "# Compute orthonormal basis\n",
    "orthonormal_basis = gram_schmidt(vectors)\n",
    "\n",
    "# Print the result\n",
    "for i, vec in enumerate(orthonormal_basis, 1):\n",
    "    print(f\"Orthonormal vector {i}: {vec}\")\n"
   ]
  },
  {
   "cell_type": "code",
   "execution_count": 7,
   "metadata": {},
   "outputs": [
    {
     "name": "stdout",
     "output_type": "stream",
     "text": [
      "Gram-Schmidt Orthonormal Basis:\n",
      "[ 0.36514837 -0.91287093  0.18257419]\n",
      "[0.81649658 0.40824829 0.40824829]\n",
      "\n",
      "QR Decomposition Orthonormal Basis (Q):\n",
      "[[-3.65148372e-01 -8.16496581e-01 -4.47213595e-01]\n",
      " [ 9.12870929e-01 -4.08248290e-01  1.11022302e-16]\n",
      " [-1.82574186e-01 -4.08248290e-01  8.94427191e-01]]\n",
      "\n",
      "Checking Orthonormality of Gram-Schmidt Basis:\n",
      "Norm of vector 1: 1.0\n",
      "Dot product of vector 1 and vector 2: -5.551115123125783e-17\n",
      "Norm of vector 2: 0.9999999999999999\n",
      "\n",
      "Checking Orthonormality of QR Basis:\n",
      "Norm of vector 1: 1.0000000000000002\n",
      "Dot product of vector 1 and vector 2: -1.0516183429620329e-16\n",
      "Dot product of vector 1 and vector 3: 0.0\n",
      "Norm of vector 2: 1.0000000000000002\n",
      "Dot product of vector 2 and vector 3: 1.6034639283004177e-17\n",
      "Norm of vector 3: 1.0\n"
     ]
    }
   ],
   "source": [
    "import numpy as np\n",
    "from scipy.linalg import qr\n",
    "\n",
    "# Your vectors\n",
    "v1 = np.array([2, -5, 1])\n",
    "v2 = np.array([4, -1, 2])\n",
    "\n",
    "# Gram-Schmidt process\n",
    "def gram_schmidt(vectors):\n",
    "    basis = []\n",
    "    for v in vectors:\n",
    "        for b in basis:\n",
    "            v = v - np.dot(v, b) * b\n",
    "        norm = np.linalg.norm(v)\n",
    "        if norm > 1e-10:\n",
    "            v = v / norm\n",
    "            basis.append(v)\n",
    "    return basis\n",
    "\n",
    "vectors = [v1, v2]\n",
    "gs_basis = gram_schmidt(vectors)\n",
    "\n",
    "# QR decomposition\n",
    "matrix = np.column_stack([v1, v2])\n",
    "Q, R = qr(matrix)\n",
    "\n",
    "# Print results\n",
    "print(\"Gram-Schmidt Orthonormal Basis:\")\n",
    "for vec in gs_basis:\n",
    "    print(vec)\n",
    "\n",
    "print(\"\\nQR Decomposition Orthonormal Basis (Q):\")\n",
    "print(Q)\n",
    "\n",
    "# Check orthonormality\n",
    "def check_orthonormality(basis):\n",
    "    for i in range(len(basis)):\n",
    "        for j in range(i, len(basis)):\n",
    "            dot_product = np.dot(basis[i], basis[j])\n",
    "            if i == j:\n",
    "                print(f\"Norm of vector {i+1}: {dot_product}\")\n",
    "            else:\n",
    "                print(f\"Dot product of vector {i+1} and vector {j+1}: {dot_product}\")\n",
    "\n",
    "print(\"\\nChecking Orthonormality of Gram-Schmidt Basis:\")\n",
    "check_orthonormality(gs_basis)\n",
    "\n",
    "print(\"\\nChecking Orthonormality of QR Basis:\")\n",
    "check_orthonormality(Q)\n"
   ]
  },
  {
   "cell_type": "code",
   "execution_count": 8,
   "metadata": {},
   "outputs": [
    {
     "name": "stdout",
     "output_type": "stream",
     "text": [
      "Orthonormal basis (Q):\n",
      "[[-0.36514837 -0.81649658]\n",
      " [ 0.91287093 -0.40824829]\n",
      " [-0.18257419 -0.40824829]]\n"
     ]
    }
   ],
   "source": [
    "import numpy as np\n",
    "from scipy.linalg import qr\n",
    "\n",
    "v1 = np.array([2, -5, 1])\n",
    "v2 = np.array([4, -1, 2])\n",
    "\n",
    "# Stack vectors into a matrix\n",
    "matrix = np.column_stack([v1, v2])\n",
    "\n",
    "# Perform QR decomposition (Q contains the orthonormal vectors)\n",
    "Q, R = qr(matrix, mode='economic')\n",
    "\n",
    "# Print the orthonormal basis\n",
    "print(\"Orthonormal basis (Q):\")\n",
    "print(Q)"
   ]
  }
 ],
 "metadata": {
  "kernelspec": {
   "display_name": "Python 3",
   "language": "python",
   "name": "python3"
  },
  "language_info": {
   "codemirror_mode": {
    "name": "ipython",
    "version": 3
   },
   "file_extension": ".py",
   "mimetype": "text/x-python",
   "name": "python",
   "nbconvert_exporter": "python",
   "pygments_lexer": "ipython3",
   "version": "3.11.3"
  }
 },
 "nbformat": 4,
 "nbformat_minor": 2
}
