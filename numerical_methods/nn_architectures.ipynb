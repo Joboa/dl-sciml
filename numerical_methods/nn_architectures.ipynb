{
 "cells": [
  {
   "cell_type": "code",
   "execution_count": 6,
   "metadata": {},
   "outputs": [
    {
     "name": "stdout",
     "output_type": "stream",
     "text": [
      "Convolution Output is \n",
      " :[[19. 25.]\n",
      " [37. 43.]]\n"
     ]
    }
   ],
   "source": [
    "# Convolutional Neural Network\n",
    "%matplotlib inline\n",
    "from matplotlib import pyplot as plt\n",
    "import torch\n",
    "import torch.nn as nn\n",
    "\n",
    "class conv2D_PyT(nn.Module):\n",
    "    def __init__(self, kernel):\n",
    "        super().__init__()\n",
    "        self.weight = nn.Parameter(kernel)\n",
    "\n",
    "    def conv(self, x):\n",
    "        \"\"\"\n",
    "        input: x [ndarray]\n",
    "               kernel (k) [ndarry]\n",
    "        \"\"\"\n",
    "        # kernel size\n",
    "        r, c = self.weight.shape\n",
    "        # dimension of convolved output:\n",
    "        # >> (height of input - height of kernel + 1, width of input - width of kernel + 1)\n",
    "        \n",
    "        # Output size\n",
    "        cr, cc = x.shape[0] - r + 1, x.shape[1] - c + 1\n",
    "\n",
    "        # Preallocation\n",
    "        y = torch.zeros((cr, cc))\n",
    "\n",
    "        # Convolution process\n",
    "        for i in range(cr):\n",
    "            for j in range(cc):\n",
    "                temp = x[i:i+r, j:j+c]*self.weight\n",
    "                y[i, j] = (temp).sum()\n",
    "        return y\n",
    "    \n",
    "    def forward(self, x):\n",
    "        return self.conv(x)\n",
    "    \n",
    "# Input\n",
    "x = torch.tensor([[0,1,2], [3,4,5], [6,7,8]])\n",
    "k = torch.tensor([[0.0,1.0], [2.0,3.0]])\n",
    "\n",
    "m = conv2D_PyT(k)\n",
    "y = m(x)\n",
    "\n",
    "print(f\"Convolution Output is \")\n",
    "print(f\" :{y.detach().numpy()}\")\n",
    "\n"
   ]
  },
  {
   "cell_type": "code",
   "execution_count": null,
   "metadata": {},
   "outputs": [],
   "source": [
    "# Recurrent neural network (RNN)"
   ]
  }
 ],
 "metadata": {
  "kernelspec": {
   "display_name": "Python 3",
   "language": "python",
   "name": "python3"
  },
  "language_info": {
   "codemirror_mode": {
    "name": "ipython",
    "version": 3
   },
   "file_extension": ".py",
   "mimetype": "text/x-python",
   "name": "python",
   "nbconvert_exporter": "python",
   "pygments_lexer": "ipython3",
   "version": "3.11.3"
  }
 },
 "nbformat": 4,
 "nbformat_minor": 2
}
